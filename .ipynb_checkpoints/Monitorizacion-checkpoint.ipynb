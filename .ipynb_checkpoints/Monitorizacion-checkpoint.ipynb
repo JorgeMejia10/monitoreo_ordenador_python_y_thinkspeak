{
 "cells": [
  {
   "cell_type": "code",
   "execution_count": null,
   "metadata": {},
   "outputs": [],
   "source": [
    "import psutil\n",
    "import time\n",
    "import wmi\n",
    "import requests"
   ]
  },
  {
   "cell_type": "code",
   "execution_count": null,
   "metadata": {},
   "outputs": [],
   "source": [
    "class Monitorizacion:\n",
    "    \n",
    "    url = 'https://api.thingspeak.com/update?api_key=5KD1MC5MLXXXA9CB&'\n",
    "    \n",
    "    def enviar_datos(self):\n",
    "        \n",
    "        while True:\n",
    "            \n",
    "            self.send_cpu()\n",
    "            time.sleep(15)\n",
    "            self.send_ram()\n",
    "            time.sleep(15)\n",
    "            self.send_hdd()\n",
    "            time.sleep(15)\n",
    "            self.send_temperature()\n",
    "            time.sleep(15)\n",
    "            self.send_battery()\n",
    "            time.sleep(15)\n",
    "                \n",
    "    def send_cpu(self):\n",
    "        cpu_pc = psutil.cpu_percent()\n",
    "        cpu = requests.get(self.url+'field1='+str(\"{0:.3f}\".format(cpu_pc)))\n",
    "        \n",
    "    def send_ram(self):\n",
    "        ram_pc = psutil.virtual_memory()\n",
    "        ram = requests.get(self.url+'field2='+str(\"{0:.3f}\".format(ram_pc[1]/ 1024 / 1024)))\n",
    "        \n",
    "    def send_hdd(self):\n",
    "        hdd = psutil.disk_usage('/')\n",
    "        hddr = requests.get(self.url+'field3='+str(\"{0:.3f}\".format(hdd.free / 1024/ 1024/ 1024)))\n",
    "        \n",
    "    def send_temperature(self):\n",
    "        w = wmi.WMI()\n",
    "        temperature = w.Win32_TemperatureProbe()[0].Accuracy\n",
    "        tem = requests.get(self.url+'field4='+str(\"{0:.3f}\".format((w.Win32_TemperatureProbe()[0].Accuracy / 100) -  273.15)))\n",
    "        \n",
    "    def send_battery(self):\n",
    "        \n",
    "        bateria = psutil.sensors_battery( )\n",
    "        # Bateria\n",
    "        bat = requests.get(self.url+'field5='+str(bateria[0]))"
   ]
  },
  {
   "cell_type": "code",
   "execution_count": null,
   "metadata": {},
   "outputs": [],
   "source": [
    "monitor = Monitorizacion()\n",
    "monitor.enviar_datos()"
   ]
  }
 ],
 "metadata": {
  "kernelspec": {
   "display_name": "Python 3",
   "language": "python",
   "name": "python3"
  },
  "language_info": {
   "codemirror_mode": {
    "name": "ipython",
    "version": 3
   },
   "file_extension": ".py",
   "mimetype": "text/x-python",
   "name": "python",
   "nbconvert_exporter": "python",
   "pygments_lexer": "ipython3",
   "version": "3.7.4"
  }
 },
 "nbformat": 4,
 "nbformat_minor": 2
}
